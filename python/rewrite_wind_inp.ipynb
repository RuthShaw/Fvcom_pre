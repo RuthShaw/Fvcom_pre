{
 "cells": [
  {
   "cell_type": "code",
   "execution_count": 1,
   "metadata": {},
   "outputs": [],
   "source": [
    "import xarray as xr\n",
    "import matplotlib.pyplot as plt\n",
    "import numpy as np\n",
    "from copy import deepcopy"
   ]
  },
  {
   "cell_type": "code",
   "execution_count": 2,
   "metadata": {},
   "outputs": [],
   "source": [
    "nc_wind_orig = xr.open_dataset(\n",
    "    '/public/home/gaoguandong/xrsh/work/INPDIR/cockburn_wind_cfsr_2016-2018.nc',\n",
    "use_cftime=False)"
   ]
  },
  {
   "cell_type": "code",
   "execution_count": 29,
   "metadata": {},
   "outputs": [],
   "source": [
    "t_beg = np.where(nc_wind_orig.time.data == \n",
    "                 np.datetime64('2017-02-13T00:00:00.000000000'))[0][0]\n",
    "\n",
    "inpdir = '/public/home/gaoguandong/xrsh/work/INPDIR/'"
   ]
  },
  {
   "cell_type": "code",
   "execution_count": 31,
   "metadata": {},
   "outputs": [
    {
     "data": {
      "text/plain": [
       "1636"
      ]
     },
     "execution_count": 31,
     "metadata": {},
     "output_type": "execute_result"
    }
   ],
   "source": [
    "t_beg"
   ]
  },
  {
   "cell_type": "code",
   "execution_count": 41,
   "metadata": {},
   "outputs": [
    {
     "name": "stdout",
     "output_type": "stream",
     "text": [
      "/public/home/gaoguandong/xrsh/work/INPDIR/cockburn_wind_6_wind90.nc\n",
      "/public/home/gaoguandong/xrsh/work/INPDIR/cockburn_wind_7_wind90.nc\n",
      "/public/home/gaoguandong/xrsh/work/INPDIR/cockburn_wind_8_wind90.nc\n",
      "/public/home/gaoguandong/xrsh/work/INPDIR/cockburn_wind_9_wind90.nc\n"
     ]
    }
   ],
   "source": [
    "for i in range(4):\n",
    "    #del data\n",
    "    \n",
    "    nc_change = deepcopy(nc_wind_orig)\n",
    "    weeknum = i+6\n",
    "    data = nc_change.U10.data\n",
    "    #data[t_beg:,:,:]=0.9 * nc_change.U10.data[t_beg:,:,:]\n",
    "    data[t_beg:,:,:]=0.9 * deepcopy(nc_wind_orig.U10.data[t_beg:,:,:])\n",
    "    nc_change['U10'] = (('Time', 'south_north', 'west_east'),data)\n",
    "    del data\n",
    "    data = nc_change.V10.data\n",
    "    data[t_beg:,:,:]=0.9 * deepcopy(nc_wind_orig.V10.data[t_beg:,:,:])\n",
    "    nc_change['V10'] = (('Time', 'south_north', 'west_east'),data)\n",
    "    del data\n",
    "    nc_change.to_netcdf(inpdir+'cockburn_wind_'+str(weeknum)+'_wind90.nc',\n",
    "                          format = 'NETCDF3_64BIT')\n",
    "    print(inpdir+'cockburn_wind_'+str(weeknum)+'_wind90.nc')\n",
    "    del nc_change\n",
    "    t_beg += 7*24"
   ]
  },
  {
   "cell_type": "code",
   "execution_count": 47,
   "metadata": {},
   "outputs": [
    {
     "data": {
      "text/plain": [
       "[<matplotlib.lines.Line2D at 0x2b5c4475acc0>]"
      ]
     },
     "execution_count": 47,
     "metadata": {},
     "output_type": "execute_result"
    },
    {
     "data": {
      "image/png": "[encoded data removed]",
      "text/plain": [
       "<Figure size 432x288 with 1 Axes>"
      ]
     },
     "metadata": {
      "needs_background": "light"
     },
     "output_type": "display_data"
    }
   ],
   "source": [
    "nc_tmp = xr.open_dataset(inpdir+'cockburn_wind_'+str(9)+'_wind90.nc',\n",
    "                         use_cftime=False)\n",
    "nc_tmp2 = xr.open_dataset(inpdir+'cockburn_wind_'+str(6)+'_wind90.nc',\n",
    "                         use_cftime=False)\n",
    "plt.plot(nc_tmp2.U10[:,10,12]-nc_tmp.U10[:,10,12])\n",
    "#plt.plot(nc_tmp.U10[t_beg:,10,12])\n"
   ]
  },
  {
   "cell_type": "code",
   "execution_count": null,
   "metadata": {},
   "outputs": [],
   "source": []
  }
 ],
 "metadata": {
  "kernelspec": {
   "display_name": "Python 3",
   "language": "python",
   "name": "python3"
  },
  "language_info": {
   "codemirror_mode": {
    "name": "ipython",
    "version": 3
   },
   "file_extension": ".py",
   "mimetype": "text/x-python",
   "name": "python",
   "nbconvert_exporter": "python",
   "pygments_lexer": "ipython3",
   "version": "3.7.3"
  }
 },
 "nbformat": 4,
 "nbformat_minor": 2
}
